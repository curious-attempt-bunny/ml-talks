{
 "cells": [
  {
   "cell_type": "markdown",
   "metadata": {},
   "source": [
    "# Read in the data"
   ]
  },
  {
   "cell_type": "code",
   "execution_count": 1,
   "metadata": {
    "collapsed": false
   },
   "outputs": [],
   "source": [
    "import pandas as pd\n",
    "\n",
    "ratings = pd.read_csv('ratings.csv', index_col=0)"
   ]
  },
  {
   "cell_type": "markdown",
   "metadata": {},
   "source": [
    "# Inspect the data"
   ]
  },
  {
   "cell_type": "code",
   "execution_count": 2,
   "metadata": {
    "collapsed": false
   },
   "outputs": [
    {
     "data": {
      "text/html": [
       "<div>\n",
       "<table border=\"1\" class=\"dataframe\">\n",
       "  <thead>\n",
       "    <tr style=\"text-align: right;\">\n",
       "      <th></th>\n",
       "      <th>Bob</th>\n",
       "      <th>Jane</th>\n",
       "      <th>Alice</th>\n",
       "      <th>Lesley</th>\n",
       "      <th>Frank</th>\n",
       "      <th>Kate</th>\n",
       "    </tr>\n",
       "    <tr>\n",
       "      <th>Game</th>\n",
       "      <th></th>\n",
       "      <th></th>\n",
       "      <th></th>\n",
       "      <th></th>\n",
       "      <th></th>\n",
       "      <th></th>\n",
       "    </tr>\n",
       "  </thead>\n",
       "  <tbody>\n",
       "    <tr>\n",
       "      <th>Arkham Horror</th>\n",
       "      <td>5</td>\n",
       "      <td>8</td>\n",
       "      <td></td>\n",
       "      <td>9.1</td>\n",
       "      <td>8.4</td>\n",
       "      <td>5</td>\n",
       "    </tr>\n",
       "    <tr>\n",
       "      <th>Carcassonne</th>\n",
       "      <td>10</td>\n",
       "      <td>8</td>\n",
       "      <td>7</td>\n",
       "      <td>7.6</td>\n",
       "      <td></td>\n",
       "      <td>6</td>\n",
       "    </tr>\n",
       "    <tr>\n",
       "      <th>Cards Against Humanity</th>\n",
       "      <td></td>\n",
       "      <td>7</td>\n",
       "      <td>5</td>\n",
       "      <td></td>\n",
       "      <td>7</td>\n",
       "      <td>4</td>\n",
       "    </tr>\n",
       "    <tr>\n",
       "      <th>Pandemic Legacy: Season 1</th>\n",
       "      <td></td>\n",
       "      <td></td>\n",
       "      <td></td>\n",
       "      <td>9.1</td>\n",
       "      <td>8.2</td>\n",
       "      <td></td>\n",
       "    </tr>\n",
       "    <tr>\n",
       "      <th>Dominion</th>\n",
       "      <td>3</td>\n",
       "      <td>8</td>\n",
       "      <td>9</td>\n",
       "      <td></td>\n",
       "      <td>4.3</td>\n",
       "      <td>8</td>\n",
       "    </tr>\n",
       "  </tbody>\n",
       "</table>\n",
       "</div>"
      ],
      "text/plain": [
       "                          Bob Jane Alice Lesley Frank Kate\n",
       "Game                                                      \n",
       "Arkham Horror               5    8          9.1   8.4    5\n",
       "Carcassonne                10    8     7    7.6          6\n",
       "Cards Against Humanity           7     5            7    4\n",
       "Pandemic Legacy: Season 1                   9.1   8.2     \n",
       "Dominion                    3    8     9          4.3    8"
      ]
     },
     "execution_count": 2,
     "metadata": {},
     "output_type": "execute_result"
    }
   ],
   "source": [
    "ratings.fillna('')"
   ]
  },
  {
   "cell_type": "code",
   "execution_count": 3,
   "metadata": {
    "collapsed": false
   },
   "outputs": [
    {
     "data": {
      "text/html": [
       "<div>\n",
       "<table border=\"1\" class=\"dataframe\">\n",
       "  <thead>\n",
       "    <tr style=\"text-align: right;\">\n",
       "      <th></th>\n",
       "      <th>Bob</th>\n",
       "      <th>Jane</th>\n",
       "      <th>Alice</th>\n",
       "      <th>Lesley</th>\n",
       "      <th>Frank</th>\n",
       "      <th>Kate</th>\n",
       "    </tr>\n",
       "    <tr>\n",
       "      <th>Game</th>\n",
       "      <th></th>\n",
       "      <th></th>\n",
       "      <th></th>\n",
       "      <th></th>\n",
       "      <th></th>\n",
       "      <th></th>\n",
       "    </tr>\n",
       "  </thead>\n",
       "  <tbody>\n",
       "    <tr>\n",
       "      <th>Arkham Horror</th>\n",
       "      <td>5.0</td>\n",
       "      <td>8.0</td>\n",
       "      <td>NaN</td>\n",
       "      <td>9.1</td>\n",
       "      <td>8.4</td>\n",
       "      <td>5.0</td>\n",
       "    </tr>\n",
       "    <tr>\n",
       "      <th>Carcassonne</th>\n",
       "      <td>10.0</td>\n",
       "      <td>8.0</td>\n",
       "      <td>7.0</td>\n",
       "      <td>7.6</td>\n",
       "      <td>NaN</td>\n",
       "      <td>6.0</td>\n",
       "    </tr>\n",
       "    <tr>\n",
       "      <th>Cards Against Humanity</th>\n",
       "      <td>NaN</td>\n",
       "      <td>7.0</td>\n",
       "      <td>5.0</td>\n",
       "      <td>NaN</td>\n",
       "      <td>7.0</td>\n",
       "      <td>4.0</td>\n",
       "    </tr>\n",
       "    <tr>\n",
       "      <th>Pandemic Legacy: Season 1</th>\n",
       "      <td>NaN</td>\n",
       "      <td>NaN</td>\n",
       "      <td>NaN</td>\n",
       "      <td>9.1</td>\n",
       "      <td>8.2</td>\n",
       "      <td>NaN</td>\n",
       "    </tr>\n",
       "    <tr>\n",
       "      <th>Dominion</th>\n",
       "      <td>3.0</td>\n",
       "      <td>8.0</td>\n",
       "      <td>9.0</td>\n",
       "      <td>NaN</td>\n",
       "      <td>4.3</td>\n",
       "      <td>8.0</td>\n",
       "    </tr>\n",
       "  </tbody>\n",
       "</table>\n",
       "</div>"
      ],
      "text/plain": [
       "                            Bob  Jane  Alice  Lesley  Frank  Kate\n",
       "Game                                                             \n",
       "Arkham Horror               5.0   8.0    NaN     9.1    8.4   5.0\n",
       "Carcassonne                10.0   8.0    7.0     7.6    NaN   6.0\n",
       "Cards Against Humanity      NaN   7.0    5.0     NaN    7.0   4.0\n",
       "Pandemic Legacy: Season 1   NaN   NaN    NaN     9.1    8.2   NaN\n",
       "Dominion                    3.0   8.0    9.0     NaN    4.3   8.0"
      ]
     },
     "execution_count": 3,
     "metadata": {},
     "output_type": "execute_result"
    }
   ],
   "source": [
    "ratings"
   ]
  },
  {
   "cell_type": "markdown",
   "metadata": {},
   "source": [
    "# Calculating item similarities"
   ]
  },
  {
   "cell_type": "markdown",
   "metadata": {},
   "source": [
    "## Normalize the ratings"
   ]
  },
  {
   "cell_type": "code",
   "execution_count": 4,
   "metadata": {
    "collapsed": false
   },
   "outputs": [
    {
     "data": {
      "text/plain": [
       "Bob       6.000\n",
       "Jane      7.750\n",
       "Alice     7.000\n",
       "Lesley    8.600\n",
       "Frank     6.975\n",
       "Kate      5.750\n",
       "dtype: float64"
      ]
     },
     "execution_count": 4,
     "metadata": {},
     "output_type": "execute_result"
    }
   ],
   "source": [
    "means = ratings.mean()\n",
    "means"
   ]
  },
  {
   "cell_type": "code",
   "execution_count": 22,
   "metadata": {
    "collapsed": false
   },
   "outputs": [
    {
     "data": {
      "text/html": [
       "<div>\n",
       "<table border=\"1\" class=\"dataframe\">\n",
       "  <thead>\n",
       "    <tr style=\"text-align: right;\">\n",
       "      <th></th>\n",
       "      <th>Bob</th>\n",
       "      <th>Jane</th>\n",
       "      <th>Alice</th>\n",
       "      <th>Lesley</th>\n",
       "      <th>Frank</th>\n",
       "      <th>Kate</th>\n",
       "    </tr>\n",
       "    <tr>\n",
       "      <th>Game</th>\n",
       "      <th></th>\n",
       "      <th></th>\n",
       "      <th></th>\n",
       "      <th></th>\n",
       "      <th></th>\n",
       "      <th></th>\n",
       "    </tr>\n",
       "  </thead>\n",
       "  <tbody>\n",
       "    <tr>\n",
       "      <th>Arkham Horror</th>\n",
       "      <td>-1.0</td>\n",
       "      <td>0.25</td>\n",
       "      <td>NaN</td>\n",
       "      <td>0.5</td>\n",
       "      <td>1.425</td>\n",
       "      <td>-0.75</td>\n",
       "    </tr>\n",
       "    <tr>\n",
       "      <th>Carcassonne</th>\n",
       "      <td>4.0</td>\n",
       "      <td>0.25</td>\n",
       "      <td>0.0</td>\n",
       "      <td>-1.0</td>\n",
       "      <td>NaN</td>\n",
       "      <td>0.25</td>\n",
       "    </tr>\n",
       "    <tr>\n",
       "      <th>Cards Against Humanity</th>\n",
       "      <td>NaN</td>\n",
       "      <td>-0.75</td>\n",
       "      <td>-2.0</td>\n",
       "      <td>NaN</td>\n",
       "      <td>0.025</td>\n",
       "      <td>-1.75</td>\n",
       "    </tr>\n",
       "    <tr>\n",
       "      <th>Pandemic Legacy: Season 1</th>\n",
       "      <td>NaN</td>\n",
       "      <td>NaN</td>\n",
       "      <td>NaN</td>\n",
       "      <td>0.5</td>\n",
       "      <td>1.225</td>\n",
       "      <td>NaN</td>\n",
       "    </tr>\n",
       "    <tr>\n",
       "      <th>Dominion</th>\n",
       "      <td>-3.0</td>\n",
       "      <td>0.25</td>\n",
       "      <td>2.0</td>\n",
       "      <td>NaN</td>\n",
       "      <td>-2.675</td>\n",
       "      <td>2.25</td>\n",
       "    </tr>\n",
       "  </tbody>\n",
       "</table>\n",
       "</div>"
      ],
      "text/plain": [
       "                           Bob  Jane  Alice  Lesley  Frank  Kate\n",
       "Game                                                            \n",
       "Arkham Horror             -1.0  0.25    NaN     0.5  1.425 -0.75\n",
       "Carcassonne                4.0  0.25    0.0    -1.0    NaN  0.25\n",
       "Cards Against Humanity     NaN -0.75   -2.0     NaN  0.025 -1.75\n",
       "Pandemic Legacy: Season 1  NaN   NaN    NaN     0.5  1.225   NaN\n",
       "Dominion                  -3.0  0.25    2.0     NaN -2.675  2.25"
      ]
     },
     "execution_count": 22,
     "metadata": {},
     "output_type": "execute_result"
    }
   ],
   "source": [
    "normalized = ratings - means\n",
    "normalized"
   ]
  },
  {
   "cell_type": "code",
   "execution_count": 6,
   "metadata": {
    "collapsed": false
   },
   "outputs": [
    {
     "data": {
      "text/html": [
       "<div>\n",
       "<table border=\"1\" class=\"dataframe\">\n",
       "  <thead>\n",
       "    <tr style=\"text-align: right;\">\n",
       "      <th></th>\n",
       "      <th>Bob</th>\n",
       "      <th>Jane</th>\n",
       "      <th>Alice</th>\n",
       "      <th>Lesley</th>\n",
       "      <th>Frank</th>\n",
       "      <th>Kate</th>\n",
       "    </tr>\n",
       "    <tr>\n",
       "      <th>Game</th>\n",
       "      <th></th>\n",
       "      <th></th>\n",
       "      <th></th>\n",
       "      <th></th>\n",
       "      <th></th>\n",
       "      <th></th>\n",
       "    </tr>\n",
       "  </thead>\n",
       "  <tbody>\n",
       "    <tr>\n",
       "      <th>Arkham Horror</th>\n",
       "      <td>25.0</td>\n",
       "      <td>64.0</td>\n",
       "      <td>NaN</td>\n",
       "      <td>82.81</td>\n",
       "      <td>70.56</td>\n",
       "      <td>25.0</td>\n",
       "    </tr>\n",
       "    <tr>\n",
       "      <th>Carcassonne</th>\n",
       "      <td>100.0</td>\n",
       "      <td>64.0</td>\n",
       "      <td>49.0</td>\n",
       "      <td>57.76</td>\n",
       "      <td>NaN</td>\n",
       "      <td>36.0</td>\n",
       "    </tr>\n",
       "    <tr>\n",
       "      <th>Cards Against Humanity</th>\n",
       "      <td>NaN</td>\n",
       "      <td>49.0</td>\n",
       "      <td>25.0</td>\n",
       "      <td>NaN</td>\n",
       "      <td>49.00</td>\n",
       "      <td>16.0</td>\n",
       "    </tr>\n",
       "    <tr>\n",
       "      <th>Pandemic Legacy: Season 1</th>\n",
       "      <td>NaN</td>\n",
       "      <td>NaN</td>\n",
       "      <td>NaN</td>\n",
       "      <td>82.81</td>\n",
       "      <td>67.24</td>\n",
       "      <td>NaN</td>\n",
       "    </tr>\n",
       "    <tr>\n",
       "      <th>Dominion</th>\n",
       "      <td>9.0</td>\n",
       "      <td>64.0</td>\n",
       "      <td>81.0</td>\n",
       "      <td>NaN</td>\n",
       "      <td>18.49</td>\n",
       "      <td>64.0</td>\n",
       "    </tr>\n",
       "  </tbody>\n",
       "</table>\n",
       "</div>"
      ],
      "text/plain": [
       "                             Bob  Jane  Alice  Lesley  Frank  Kate\n",
       "Game                                                              \n",
       "Arkham Horror               25.0  64.0    NaN   82.81  70.56  25.0\n",
       "Carcassonne                100.0  64.0   49.0   57.76    NaN  36.0\n",
       "Cards Against Humanity       NaN  49.0   25.0     NaN  49.00  16.0\n",
       "Pandemic Legacy: Season 1    NaN   NaN    NaN   82.81  67.24   NaN\n",
       "Dominion                     9.0  64.0   81.0     NaN  18.49  64.0"
      ]
     },
     "execution_count": 6,
     "metadata": {},
     "output_type": "execute_result"
    }
   ],
   "source": [
    "ratings.pow(2)"
   ]
  },
  {
   "cell_type": "code",
   "execution_count": 7,
   "metadata": {
    "collapsed": false
   },
   "outputs": [
    {
     "data": {
      "text/plain": [
       "Game\n",
       "Arkham Horror                267.37\n",
       "Carcassonne                  306.76\n",
       "Cards Against Humanity       139.00\n",
       "Pandemic Legacy: Season 1    150.05\n",
       "Dominion                     236.49\n",
       "dtype: float64"
      ]
     },
     "execution_count": 7,
     "metadata": {},
     "output_type": "execute_result"
    }
   ],
   "source": [
    "ratings.pow(2).sum(axis=1)"
   ]
  },
  {
   "cell_type": "code",
   "execution_count": 8,
   "metadata": {
    "collapsed": false
   },
   "outputs": [
    {
     "data": {
      "text/plain": [
       "Game\n",
       "Arkham Horror                16.351453\n",
       "Carcassonne                  17.514565\n",
       "Cards Against Humanity       11.789826\n",
       "Pandemic Legacy: Season 1    12.249490\n",
       "Dominion                     15.378231\n",
       "dtype: float64"
      ]
     },
     "execution_count": 8,
     "metadata": {},
     "output_type": "execute_result"
    }
   ],
   "source": [
    "ratings.pow(2).sum(axis=1).pow(0.5)"
   ]
  },
  {
   "cell_type": "markdown",
   "metadata": {},
   "source": [
    "## Precompute item square root of sum of squares"
   ]
  },
  {
   "cell_type": "code",
   "execution_count": 24,
   "metadata": {
    "collapsed": false
   },
   "outputs": [
    {
     "data": {
      "text/html": [
       "<div>\n",
       "<table border=\"1\" class=\"dataframe\">\n",
       "  <thead>\n",
       "    <tr style=\"text-align: right;\">\n",
       "      <th></th>\n",
       "      <th>Bob</th>\n",
       "      <th>Jane</th>\n",
       "      <th>Alice</th>\n",
       "      <th>Lesley</th>\n",
       "      <th>Frank</th>\n",
       "      <th>Kate</th>\n",
       "      <th>Sqrt Sum Squares</th>\n",
       "    </tr>\n",
       "    <tr>\n",
       "      <th>Game</th>\n",
       "      <th></th>\n",
       "      <th></th>\n",
       "      <th></th>\n",
       "      <th></th>\n",
       "      <th></th>\n",
       "      <th></th>\n",
       "      <th></th>\n",
       "    </tr>\n",
       "  </thead>\n",
       "  <tbody>\n",
       "    <tr>\n",
       "      <th>Arkham Horror</th>\n",
       "      <td>-1.0</td>\n",
       "      <td>0.25</td>\n",
       "      <td>NaN</td>\n",
       "      <td>0.5</td>\n",
       "      <td>1.425</td>\n",
       "      <td>-0.75</td>\n",
       "      <td>16.351453</td>\n",
       "    </tr>\n",
       "    <tr>\n",
       "      <th>Carcassonne</th>\n",
       "      <td>4.0</td>\n",
       "      <td>0.25</td>\n",
       "      <td>0.0</td>\n",
       "      <td>-1.0</td>\n",
       "      <td>NaN</td>\n",
       "      <td>0.25</td>\n",
       "      <td>17.514565</td>\n",
       "    </tr>\n",
       "    <tr>\n",
       "      <th>Cards Against Humanity</th>\n",
       "      <td>NaN</td>\n",
       "      <td>-0.75</td>\n",
       "      <td>-2.0</td>\n",
       "      <td>NaN</td>\n",
       "      <td>0.025</td>\n",
       "      <td>-1.75</td>\n",
       "      <td>11.789826</td>\n",
       "    </tr>\n",
       "    <tr>\n",
       "      <th>Pandemic Legacy: Season 1</th>\n",
       "      <td>NaN</td>\n",
       "      <td>NaN</td>\n",
       "      <td>NaN</td>\n",
       "      <td>0.5</td>\n",
       "      <td>1.225</td>\n",
       "      <td>NaN</td>\n",
       "      <td>12.249490</td>\n",
       "    </tr>\n",
       "    <tr>\n",
       "      <th>Dominion</th>\n",
       "      <td>-3.0</td>\n",
       "      <td>0.25</td>\n",
       "      <td>2.0</td>\n",
       "      <td>NaN</td>\n",
       "      <td>-2.675</td>\n",
       "      <td>2.25</td>\n",
       "      <td>15.378231</td>\n",
       "    </tr>\n",
       "  </tbody>\n",
       "</table>\n",
       "</div>"
      ],
      "text/plain": [
       "                           Bob  Jane  Alice  Lesley  Frank  Kate  \\\n",
       "Game                                                               \n",
       "Arkham Horror             -1.0  0.25    NaN     0.5  1.425 -0.75   \n",
       "Carcassonne                4.0  0.25    0.0    -1.0    NaN  0.25   \n",
       "Cards Against Humanity     NaN -0.75   -2.0     NaN  0.025 -1.75   \n",
       "Pandemic Legacy: Season 1  NaN   NaN    NaN     0.5  1.225   NaN   \n",
       "Dominion                  -3.0  0.25    2.0     NaN -2.675  2.25   \n",
       "\n",
       "                           Sqrt Sum Squares  \n",
       "Game                                         \n",
       "Arkham Horror                     16.351453  \n",
       "Carcassonne                       17.514565  \n",
       "Cards Against Humanity            11.789826  \n",
       "Pandemic Legacy: Season 1         12.249490  \n",
       "Dominion                          15.378231  "
      ]
     },
     "execution_count": 24,
     "metadata": {},
     "output_type": "execute_result"
    }
   ],
   "source": [
    "sqrt_sum_squares = ratings.pow(2).sum(axis=1).pow(0.5)\n",
    "rendering = normalized.copy()\n",
    "rendering['Sqrt Sum Squares'] = sqrt_sum_squares\n",
    "rendering"
   ]
  },
  {
   "cell_type": "markdown",
   "metadata": {},
   "source": [
    "## Calculate similarities"
   ]
  },
  {
   "cell_type": "code",
   "execution_count": 10,
   "metadata": {
    "collapsed": false
   },
   "outputs": [
    {
     "data": {
      "text/html": [
       "<div>\n",
       "<table border=\"1\" class=\"dataframe\">\n",
       "  <thead>\n",
       "    <tr style=\"text-align: right;\">\n",
       "      <th></th>\n",
       "      <th>Arkham Horror</th>\n",
       "      <th>Carcassonne</th>\n",
       "      <th>Cards Against Humanity</th>\n",
       "      <th>Pandemic Legacy: Season 1</th>\n",
       "      <th>Dominion</th>\n",
       "    </tr>\n",
       "  </thead>\n",
       "  <tbody>\n",
       "    <tr>\n",
       "      <th>Arkham Horror</th>\n",
       "      <td>NaN</td>\n",
       "      <td>NaN</td>\n",
       "      <td>NaN</td>\n",
       "      <td>NaN</td>\n",
       "      <td>NaN</td>\n",
       "    </tr>\n",
       "    <tr>\n",
       "      <th>Carcassonne</th>\n",
       "      <td>NaN</td>\n",
       "      <td>NaN</td>\n",
       "      <td>NaN</td>\n",
       "      <td>NaN</td>\n",
       "      <td>NaN</td>\n",
       "    </tr>\n",
       "    <tr>\n",
       "      <th>Cards Against Humanity</th>\n",
       "      <td>NaN</td>\n",
       "      <td>NaN</td>\n",
       "      <td>NaN</td>\n",
       "      <td>NaN</td>\n",
       "      <td>NaN</td>\n",
       "    </tr>\n",
       "    <tr>\n",
       "      <th>Pandemic Legacy: Season 1</th>\n",
       "      <td>NaN</td>\n",
       "      <td>NaN</td>\n",
       "      <td>NaN</td>\n",
       "      <td>NaN</td>\n",
       "      <td>NaN</td>\n",
       "    </tr>\n",
       "    <tr>\n",
       "      <th>Dominion</th>\n",
       "      <td>NaN</td>\n",
       "      <td>NaN</td>\n",
       "      <td>NaN</td>\n",
       "      <td>NaN</td>\n",
       "      <td>NaN</td>\n",
       "    </tr>\n",
       "  </tbody>\n",
       "</table>\n",
       "</div>"
      ],
      "text/plain": [
       "                          Arkham Horror Carcassonne Cards Against Humanity  \\\n",
       "Arkham Horror                       NaN         NaN                    NaN   \n",
       "Carcassonne                         NaN         NaN                    NaN   \n",
       "Cards Against Humanity              NaN         NaN                    NaN   \n",
       "Pandemic Legacy: Season 1           NaN         NaN                    NaN   \n",
       "Dominion                            NaN         NaN                    NaN   \n",
       "\n",
       "                          Pandemic Legacy: Season 1 Dominion  \n",
       "Arkham Horror                                   NaN      NaN  \n",
       "Carcassonne                                     NaN      NaN  \n",
       "Cards Against Humanity                          NaN      NaN  \n",
       "Pandemic Legacy: Season 1                       NaN      NaN  \n",
       "Dominion                                        NaN      NaN  "
      ]
     },
     "execution_count": 10,
     "metadata": {},
     "output_type": "execute_result"
    }
   ],
   "source": [
    "similarity = pd.DataFrame(index = ratings.index.values, columns = ratings.index.values)\n",
    "similarity"
   ]
  },
  {
   "cell_type": "code",
   "execution_count": 26,
   "metadata": {
    "collapsed": false
   },
   "outputs": [
    {
     "data": {
      "text/html": [
       "<div>\n",
       "<table border=\"1\" class=\"dataframe\">\n",
       "  <thead>\n",
       "    <tr style=\"text-align: right;\">\n",
       "      <th></th>\n",
       "      <th>Arkham Horror</th>\n",
       "      <th>Carcassonne</th>\n",
       "      <th>Cards Against Humanity</th>\n",
       "      <th>Pandemic Legacy: Season 1</th>\n",
       "      <th>Dominion</th>\n",
       "    </tr>\n",
       "  </thead>\n",
       "  <tbody>\n",
       "    <tr>\n",
       "      <th>Arkham Horror</th>\n",
       "      <td>1</td>\n",
       "      <td>0.744303</td>\n",
       "      <td>0.69924</td>\n",
       "      <td>0.757326</td>\n",
       "      <td>0.616886</td>\n",
       "    </tr>\n",
       "    <tr>\n",
       "      <th>Carcassonne</th>\n",
       "      <td>0.744303</td>\n",
       "      <td>1</td>\n",
       "      <td>0.556918</td>\n",
       "      <td>0.322357</td>\n",
       "      <td>0.761111</td>\n",
       "    </tr>\n",
       "    <tr>\n",
       "      <th>Cards Against Humanity</th>\n",
       "      <td>0.69924</td>\n",
       "      <td>0.556918</td>\n",
       "      <td>1</td>\n",
       "      <td>0.397454</td>\n",
       "      <td>0.899581</td>\n",
       "    </tr>\n",
       "    <tr>\n",
       "      <th>Pandemic Legacy: Season 1</th>\n",
       "      <td>0.757326</td>\n",
       "      <td>0.322357</td>\n",
       "      <td>0.397454</td>\n",
       "      <td>1</td>\n",
       "      <td>0.187179</td>\n",
       "    </tr>\n",
       "    <tr>\n",
       "      <th>Dominion</th>\n",
       "      <td>0.616886</td>\n",
       "      <td>0.761111</td>\n",
       "      <td>0.899581</td>\n",
       "      <td>0.187179</td>\n",
       "      <td>1</td>\n",
       "    </tr>\n",
       "  </tbody>\n",
       "</table>\n",
       "</div>"
      ],
      "text/plain": [
       "                          Arkham Horror Carcassonne Cards Against Humanity  \\\n",
       "Arkham Horror                         1    0.744303                0.69924   \n",
       "Carcassonne                    0.744303           1               0.556918   \n",
       "Cards Against Humanity          0.69924    0.556918                      1   \n",
       "Pandemic Legacy: Season 1      0.757326    0.322357               0.397454   \n",
       "Dominion                       0.616886    0.761111               0.899581   \n",
       "\n",
       "                          Pandemic Legacy: Season 1  Dominion  \n",
       "Arkham Horror                              0.757326  0.616886  \n",
       "Carcassonne                                0.322357  0.761111  \n",
       "Cards Against Humanity                     0.397454  0.899581  \n",
       "Pandemic Legacy: Season 1                         1  0.187179  \n",
       "Dominion                                   0.187179         1  "
      ]
     },
     "execution_count": 26,
     "metadata": {},
     "output_type": "execute_result"
    }
   ],
   "source": [
    "for i in similarity.index.values:\n",
    "    for j in similarity.index.values:\n",
    "        nominator = (ratings.loc[i] * ratings.loc[j]).sum()\n",
    "        denominator = sqrt_sum_squares.loc[i] * sqrt_sum_squares.loc[j]\n",
    "        similarity.loc[i,j] = nominator / denominator\n",
    "        \n",
    "similarity"
   ]
  },
  {
   "cell_type": "markdown",
   "metadata": {},
   "source": [
    "# Recommend similar items"
   ]
  },
  {
   "cell_type": "code",
   "execution_count": 28,
   "metadata": {
    "collapsed": false
   },
   "outputs": [
    {
     "data": {
      "text/plain": [
       "('Pandemic Legacy: Season 1', 0.75732555784658306)"
      ]
     },
     "execution_count": 28,
     "metadata": {},
     "output_type": "execute_result"
    }
   ],
   "source": [
    "def most_similar_to(item):\n",
    "    ranked = similarity[item].sort_values(ascending=False)\n",
    "    return (ranked.index[1], ranked[1])\n",
    "    \n",
    "most_similar_to('Arkham Horror')   "
   ]
  },
  {
   "cell_type": "markdown",
   "metadata": {},
   "source": [
    "# Predict user ratings"
   ]
  },
  {
   "cell_type": "code",
   "execution_count": 13,
   "metadata": {
    "collapsed": false
   },
   "outputs": [
    {
     "data": {
      "text/html": [
       "<div>\n",
       "<table border=\"1\" class=\"dataframe\">\n",
       "  <thead>\n",
       "    <tr style=\"text-align: right;\">\n",
       "      <th></th>\n",
       "      <th>Bob</th>\n",
       "      <th>Jane</th>\n",
       "      <th>Alice</th>\n",
       "      <th>Lesley</th>\n",
       "      <th>Frank</th>\n",
       "      <th>Kate</th>\n",
       "    </tr>\n",
       "    <tr>\n",
       "      <th>Game</th>\n",
       "      <th></th>\n",
       "      <th></th>\n",
       "      <th></th>\n",
       "      <th></th>\n",
       "      <th></th>\n",
       "      <th></th>\n",
       "    </tr>\n",
       "  </thead>\n",
       "  <tbody>\n",
       "    <tr>\n",
       "      <th>Arkham Horror</th>\n",
       "      <td>5.0</td>\n",
       "      <td>8.0</td>\n",
       "      <td>NaN</td>\n",
       "      <td>9.1</td>\n",
       "      <td>8.4</td>\n",
       "      <td>5.0</td>\n",
       "    </tr>\n",
       "    <tr>\n",
       "      <th>Carcassonne</th>\n",
       "      <td>10.0</td>\n",
       "      <td>8.0</td>\n",
       "      <td>7.0</td>\n",
       "      <td>7.6</td>\n",
       "      <td>NaN</td>\n",
       "      <td>6.0</td>\n",
       "    </tr>\n",
       "    <tr>\n",
       "      <th>Cards Against Humanity</th>\n",
       "      <td>NaN</td>\n",
       "      <td>7.0</td>\n",
       "      <td>5.0</td>\n",
       "      <td>NaN</td>\n",
       "      <td>7.0</td>\n",
       "      <td>4.0</td>\n",
       "    </tr>\n",
       "    <tr>\n",
       "      <th>Pandemic Legacy: Season 1</th>\n",
       "      <td>NaN</td>\n",
       "      <td>NaN</td>\n",
       "      <td>NaN</td>\n",
       "      <td>9.1</td>\n",
       "      <td>8.2</td>\n",
       "      <td>NaN</td>\n",
       "    </tr>\n",
       "    <tr>\n",
       "      <th>Dominion</th>\n",
       "      <td>3.0</td>\n",
       "      <td>8.0</td>\n",
       "      <td>9.0</td>\n",
       "      <td>NaN</td>\n",
       "      <td>4.3</td>\n",
       "      <td>8.0</td>\n",
       "    </tr>\n",
       "  </tbody>\n",
       "</table>\n",
       "</div>"
      ],
      "text/plain": [
       "                            Bob  Jane  Alice  Lesley  Frank  Kate\n",
       "Game                                                             \n",
       "Arkham Horror               5.0   8.0    NaN     9.1    8.4   5.0\n",
       "Carcassonne                10.0   8.0    7.0     7.6    NaN   6.0\n",
       "Cards Against Humanity      NaN   7.0    5.0     NaN    7.0   4.0\n",
       "Pandemic Legacy: Season 1   NaN   NaN    NaN     9.1    8.2   NaN\n",
       "Dominion                    3.0   8.0    9.0     NaN    4.3   8.0"
      ]
     },
     "execution_count": 13,
     "metadata": {},
     "output_type": "execute_result"
    }
   ],
   "source": [
    "ratings"
   ]
  },
  {
   "cell_type": "code",
   "execution_count": 14,
   "metadata": {
    "collapsed": false
   },
   "outputs": [
    {
     "data": {
      "text/plain": [
       "Game\n",
       "Arkham Horror                 3.4962\n",
       "Carcassonne                  5.56918\n",
       "Cards Against Humanity           NaN\n",
       "Pandemic Legacy: Season 1        NaN\n",
       "Dominion                     2.69874\n",
       "dtype: object"
      ]
     },
     "execution_count": 14,
     "metadata": {},
     "output_type": "execute_result"
    }
   ],
   "source": [
    "ratings['Bob'] * similarity.loc['Cards Against Humanity']"
   ]
  },
  {
   "cell_type": "code",
   "execution_count": 15,
   "metadata": {
    "collapsed": false
   },
   "outputs": [
    {
     "data": {
      "text/plain": [
       "Game\n",
       "Arkham Horror                 5.0\n",
       "Carcassonne                  10.0\n",
       "Cards Against Humanity        NaN\n",
       "Pandemic Legacy: Season 1     NaN\n",
       "Dominion                      3.0\n",
       "Name: Bob, dtype: float64"
      ]
     },
     "execution_count": 15,
     "metadata": {},
     "output_type": "execute_result"
    }
   ],
   "source": [
    "ratings['Bob'].abs()"
   ]
  },
  {
   "cell_type": "code",
   "execution_count": 16,
   "metadata": {
    "collapsed": false
   },
   "outputs": [
    {
     "data": {
      "text/plain": [
       "0.65356217615516188"
      ]
     },
     "execution_count": 16,
     "metadata": {},
     "output_type": "execute_result"
    }
   ],
   "source": [
    "(ratings['Bob'] * similarity.loc['Cards Against Humanity']).sum() / ratings['Bob'].abs().sum()"
   ]
  },
  {
   "cell_type": "code",
   "execution_count": 17,
   "metadata": {
    "collapsed": false
   },
   "outputs": [
    {
     "data": {
      "text/plain": [
       "0.65356217615516188"
      ]
     },
     "execution_count": 17,
     "metadata": {},
     "output_type": "execute_result"
    }
   ],
   "source": [
    "def predict_rating_for(user, item):\n",
    "    return (ratings[user] * similarity.loc[item]).sum() / ratings[user].abs().sum()\n",
    "    \n",
    "predict_rating_for('Bob', 'Cards Against Humanity')"
   ]
  },
  {
   "cell_type": "code",
   "execution_count": 18,
   "metadata": {
    "collapsed": false
   },
   "outputs": [],
   "source": [
    "ratings_with_predictions = ratings.copy()\n",
    "for user in ratings_with_predictions.columns.values:\n",
    "    for item in ratings_with_predictions.index.values:\n",
    "        if pd.isnull(ratings_with_predictions.loc[item, user]):\n",
    "            ratings_with_predictions.loc[item, user] = predict_rating_for(user, item) "
   ]
  },
  {
   "cell_type": "code",
   "execution_count": 19,
   "metadata": {
    "collapsed": false
   },
   "outputs": [
    {
     "data": {
      "text/html": [
       "<div>\n",
       "<table border=\"1\" class=\"dataframe\">\n",
       "  <thead>\n",
       "    <tr style=\"text-align: right;\">\n",
       "      <th></th>\n",
       "      <th>Bob</th>\n",
       "      <th>Jane</th>\n",
       "      <th>Alice</th>\n",
       "      <th>Lesley</th>\n",
       "      <th>Frank</th>\n",
       "      <th>Kate</th>\n",
       "    </tr>\n",
       "    <tr>\n",
       "      <th>Game</th>\n",
       "      <th></th>\n",
       "      <th></th>\n",
       "      <th></th>\n",
       "      <th></th>\n",
       "      <th></th>\n",
       "      <th></th>\n",
       "    </tr>\n",
       "  </thead>\n",
       "  <tbody>\n",
       "    <tr>\n",
       "      <th>Arkham Horror</th>\n",
       "      <td>5.0</td>\n",
       "      <td>8.0</td>\n",
       "      <td>NaN</td>\n",
       "      <td>9.1</td>\n",
       "      <td>8.4</td>\n",
       "      <td>5.0</td>\n",
       "    </tr>\n",
       "    <tr>\n",
       "      <th>Carcassonne</th>\n",
       "      <td>10.0</td>\n",
       "      <td>8.0</td>\n",
       "      <td>7.0</td>\n",
       "      <td>7.6</td>\n",
       "      <td>NaN</td>\n",
       "      <td>6.0</td>\n",
       "    </tr>\n",
       "    <tr>\n",
       "      <th>Cards Against Humanity</th>\n",
       "      <td>NaN</td>\n",
       "      <td>7.0</td>\n",
       "      <td>5.0</td>\n",
       "      <td>NaN</td>\n",
       "      <td>7.0</td>\n",
       "      <td>4.0</td>\n",
       "    </tr>\n",
       "    <tr>\n",
       "      <th>Pandemic Legacy: Season 1</th>\n",
       "      <td>NaN</td>\n",
       "      <td>NaN</td>\n",
       "      <td>NaN</td>\n",
       "      <td>9.1</td>\n",
       "      <td>8.2</td>\n",
       "      <td>NaN</td>\n",
       "    </tr>\n",
       "    <tr>\n",
       "      <th>Dominion</th>\n",
       "      <td>3.0</td>\n",
       "      <td>8.0</td>\n",
       "      <td>9.0</td>\n",
       "      <td>NaN</td>\n",
       "      <td>4.3</td>\n",
       "      <td>8.0</td>\n",
       "    </tr>\n",
       "  </tbody>\n",
       "</table>\n",
       "</div>"
      ],
      "text/plain": [
       "                            Bob  Jane  Alice  Lesley  Frank  Kate\n",
       "Game                                                             \n",
       "Arkham Horror               5.0   8.0    NaN     9.1    8.4   5.0\n",
       "Carcassonne                10.0   8.0    7.0     7.6    NaN   6.0\n",
       "Cards Against Humanity      NaN   7.0    5.0     NaN    7.0   4.0\n",
       "Pandemic Legacy: Season 1   NaN   NaN    NaN     9.1    8.2   NaN\n",
       "Dominion                    3.0   8.0    9.0     NaN    4.3   8.0"
      ]
     },
     "execution_count": 19,
     "metadata": {},
     "output_type": "execute_result"
    }
   ],
   "source": [
    "ratings"
   ]
  },
  {
   "cell_type": "code",
   "execution_count": 20,
   "metadata": {
    "collapsed": false
   },
   "outputs": [
    {
     "data": {
      "text/html": [
       "<div>\n",
       "<table border=\"1\" class=\"dataframe\">\n",
       "  <thead>\n",
       "    <tr style=\"text-align: right;\">\n",
       "      <th></th>\n",
       "      <th>Bob</th>\n",
       "      <th>Jane</th>\n",
       "      <th>Alice</th>\n",
       "      <th>Lesley</th>\n",
       "      <th>Frank</th>\n",
       "      <th>Kate</th>\n",
       "    </tr>\n",
       "    <tr>\n",
       "      <th>Game</th>\n",
       "      <th></th>\n",
       "      <th></th>\n",
       "      <th></th>\n",
       "      <th></th>\n",
       "      <th></th>\n",
       "      <th></th>\n",
       "    </tr>\n",
       "  </thead>\n",
       "  <tbody>\n",
       "    <tr>\n",
       "      <th>Arkham Horror</th>\n",
       "      <td>5.000000</td>\n",
       "      <td>8.00000</td>\n",
       "      <td>0.678967</td>\n",
       "      <td>9.100000</td>\n",
       "      <td>8.400000</td>\n",
       "      <td>5.000000</td>\n",
       "    </tr>\n",
       "    <tr>\n",
       "      <th>Carcassonne</th>\n",
       "      <td>10.000000</td>\n",
       "      <td>8.00000</td>\n",
       "      <td>7.000000</td>\n",
       "      <td>7.600000</td>\n",
       "      <td>0.575867</td>\n",
       "      <td>6.000000</td>\n",
       "    </tr>\n",
       "    <tr>\n",
       "      <th>Cards Against Humanity</th>\n",
       "      <td>0.653562</td>\n",
       "      <td>7.00000</td>\n",
       "      <td>5.000000</td>\n",
       "      <td>0.550872</td>\n",
       "      <td>7.000000</td>\n",
       "      <td>4.000000</td>\n",
       "    </tr>\n",
       "    <tr>\n",
       "      <th>Pandemic Legacy: Season 1</th>\n",
       "      <td>0.420652</td>\n",
       "      <td>0.41668</td>\n",
       "      <td>0.282304</td>\n",
       "      <td>9.100000</td>\n",
       "      <td>8.200000</td>\n",
       "      <td>0.382957</td>\n",
       "    </tr>\n",
       "    <tr>\n",
       "      <th>Dominion</th>\n",
       "      <td>3.000000</td>\n",
       "      <td>8.00000</td>\n",
       "      <td>9.000000</td>\n",
       "      <td>0.507808</td>\n",
       "      <td>4.300000</td>\n",
       "      <td>8.000000</td>\n",
       "    </tr>\n",
       "  </tbody>\n",
       "</table>\n",
       "</div>"
      ],
      "text/plain": [
       "                                 Bob     Jane     Alice    Lesley     Frank  \\\n",
       "Game                                                                          \n",
       "Arkham Horror               5.000000  8.00000  0.678967  9.100000  8.400000   \n",
       "Carcassonne                10.000000  8.00000  7.000000  7.600000  0.575867   \n",
       "Cards Against Humanity      0.653562  7.00000  5.000000  0.550872  7.000000   \n",
       "Pandemic Legacy: Season 1   0.420652  0.41668  0.282304  9.100000  8.200000   \n",
       "Dominion                    3.000000  8.00000  9.000000  0.507808  4.300000   \n",
       "\n",
       "                               Kate  \n",
       "Game                                 \n",
       "Arkham Horror              5.000000  \n",
       "Carcassonne                6.000000  \n",
       "Cards Against Humanity     4.000000  \n",
       "Pandemic Legacy: Season 1  0.382957  \n",
       "Dominion                   8.000000  "
      ]
     },
     "execution_count": 20,
     "metadata": {},
     "output_type": "execute_result"
    }
   ],
   "source": [
    "ratings_with_predictions"
   ]
  }
 ],
 "metadata": {
  "anaconda-cloud": {},
  "kernelspec": {
   "display_name": "Python [Root]",
   "language": "python",
   "name": "Python [Root]"
  },
  "language_info": {
   "codemirror_mode": {
    "name": "ipython",
    "version": 2
   },
   "file_extension": ".py",
   "mimetype": "text/x-python",
   "name": "python",
   "nbconvert_exporter": "python",
   "pygments_lexer": "ipython2",
   "version": "2.7.12"
  }
 },
 "nbformat": 4,
 "nbformat_minor": 0
}
