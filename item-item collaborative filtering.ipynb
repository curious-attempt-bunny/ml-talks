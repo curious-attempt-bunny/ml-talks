{
 "cells": [
  {
   "cell_type": "markdown",
   "metadata": {},
   "source": [
    "# Part 1 - Build the model"
   ]
  },
  {
   "cell_type": "markdown",
   "metadata": {},
   "source": [
    "# Read in the data"
   ]
  },
  {
   "cell_type": "code",
   "execution_count": 1,
   "metadata": {
    "collapsed": false
   },
   "outputs": [],
   "source": [
    "import pandas as pd\n",
    "\n",
    "ratings = pd.read_csv('ratings.csv', index_col=0)"
   ]
  },
  {
   "cell_type": "markdown",
   "metadata": {},
   "source": [
    "# Inspect the data"
   ]
  },
  {
   "cell_type": "code",
   "execution_count": 2,
   "metadata": {
    "collapsed": false
   },
   "outputs": [
    {
     "data": {
      "text/html": [
       "<div>\n",
       "<table border=\"1\" class=\"dataframe\">\n",
       "  <thead>\n",
       "    <tr style=\"text-align: right;\">\n",
       "      <th></th>\n",
       "      <th>Bob</th>\n",
       "      <th>Jane</th>\n",
       "      <th>Alice</th>\n",
       "      <th>Lesley</th>\n",
       "      <th>Frank</th>\n",
       "      <th>Kate</th>\n",
       "    </tr>\n",
       "    <tr>\n",
       "      <th>Game</th>\n",
       "      <th></th>\n",
       "      <th></th>\n",
       "      <th></th>\n",
       "      <th></th>\n",
       "      <th></th>\n",
       "      <th></th>\n",
       "    </tr>\n",
       "  </thead>\n",
       "  <tbody>\n",
       "    <tr>\n",
       "      <th>Arkham Horror</th>\n",
       "      <td>5</td>\n",
       "      <td>8</td>\n",
       "      <td></td>\n",
       "      <td>9.1</td>\n",
       "      <td>8.4</td>\n",
       "      <td>5</td>\n",
       "    </tr>\n",
       "    <tr>\n",
       "      <th>Carcassonne</th>\n",
       "      <td>10</td>\n",
       "      <td>8</td>\n",
       "      <td>7</td>\n",
       "      <td>7.6</td>\n",
       "      <td></td>\n",
       "      <td>6</td>\n",
       "    </tr>\n",
       "    <tr>\n",
       "      <th>Cards Against Humanity</th>\n",
       "      <td></td>\n",
       "      <td>7</td>\n",
       "      <td>5</td>\n",
       "      <td></td>\n",
       "      <td>7</td>\n",
       "      <td>4</td>\n",
       "    </tr>\n",
       "    <tr>\n",
       "      <th>Pandemic Legacy: Season 1</th>\n",
       "      <td></td>\n",
       "      <td></td>\n",
       "      <td></td>\n",
       "      <td>9.1</td>\n",
       "      <td>8.2</td>\n",
       "      <td></td>\n",
       "    </tr>\n",
       "    <tr>\n",
       "      <th>Dominion</th>\n",
       "      <td>3</td>\n",
       "      <td>8</td>\n",
       "      <td>9</td>\n",
       "      <td></td>\n",
       "      <td>4.3</td>\n",
       "      <td>8</td>\n",
       "    </tr>\n",
       "  </tbody>\n",
       "</table>\n",
       "</div>"
      ],
      "text/plain": [
       "                          Bob Jane Alice Lesley Frank Kate\n",
       "Game                                                      \n",
       "Arkham Horror               5    8          9.1   8.4    5\n",
       "Carcassonne                10    8     7    7.6          6\n",
       "Cards Against Humanity           7     5            7    4\n",
       "Pandemic Legacy: Season 1                   9.1   8.2     \n",
       "Dominion                    3    8     9          4.3    8"
      ]
     },
     "execution_count": 2,
     "metadata": {},
     "output_type": "execute_result"
    }
   ],
   "source": [
    "ratings.fillna('')"
   ]
  },
  {
   "cell_type": "code",
   "execution_count": 3,
   "metadata": {
    "collapsed": false
   },
   "outputs": [
    {
     "data": {
      "text/html": [
       "<div>\n",
       "<table border=\"1\" class=\"dataframe\">\n",
       "  <thead>\n",
       "    <tr style=\"text-align: right;\">\n",
       "      <th></th>\n",
       "      <th>Bob</th>\n",
       "      <th>Jane</th>\n",
       "      <th>Alice</th>\n",
       "      <th>Lesley</th>\n",
       "      <th>Frank</th>\n",
       "      <th>Kate</th>\n",
       "    </tr>\n",
       "    <tr>\n",
       "      <th>Game</th>\n",
       "      <th></th>\n",
       "      <th></th>\n",
       "      <th></th>\n",
       "      <th></th>\n",
       "      <th></th>\n",
       "      <th></th>\n",
       "    </tr>\n",
       "  </thead>\n",
       "  <tbody>\n",
       "    <tr>\n",
       "      <th>Arkham Horror</th>\n",
       "      <td>5.0</td>\n",
       "      <td>8.0</td>\n",
       "      <td>NaN</td>\n",
       "      <td>9.1</td>\n",
       "      <td>8.4</td>\n",
       "      <td>5.0</td>\n",
       "    </tr>\n",
       "    <tr>\n",
       "      <th>Carcassonne</th>\n",
       "      <td>10.0</td>\n",
       "      <td>8.0</td>\n",
       "      <td>7.0</td>\n",
       "      <td>7.6</td>\n",
       "      <td>NaN</td>\n",
       "      <td>6.0</td>\n",
       "    </tr>\n",
       "    <tr>\n",
       "      <th>Cards Against Humanity</th>\n",
       "      <td>NaN</td>\n",
       "      <td>7.0</td>\n",
       "      <td>5.0</td>\n",
       "      <td>NaN</td>\n",
       "      <td>7.0</td>\n",
       "      <td>4.0</td>\n",
       "    </tr>\n",
       "    <tr>\n",
       "      <th>Pandemic Legacy: Season 1</th>\n",
       "      <td>NaN</td>\n",
       "      <td>NaN</td>\n",
       "      <td>NaN</td>\n",
       "      <td>9.1</td>\n",
       "      <td>8.2</td>\n",
       "      <td>NaN</td>\n",
       "    </tr>\n",
       "    <tr>\n",
       "      <th>Dominion</th>\n",
       "      <td>3.0</td>\n",
       "      <td>8.0</td>\n",
       "      <td>9.0</td>\n",
       "      <td>NaN</td>\n",
       "      <td>4.3</td>\n",
       "      <td>8.0</td>\n",
       "    </tr>\n",
       "  </tbody>\n",
       "</table>\n",
       "</div>"
      ],
      "text/plain": [
       "                            Bob  Jane  Alice  Lesley  Frank  Kate\n",
       "Game                                                             \n",
       "Arkham Horror               5.0   8.0    NaN     9.1    8.4   5.0\n",
       "Carcassonne                10.0   8.0    7.0     7.6    NaN   6.0\n",
       "Cards Against Humanity      NaN   7.0    5.0     NaN    7.0   4.0\n",
       "Pandemic Legacy: Season 1   NaN   NaN    NaN     9.1    8.2   NaN\n",
       "Dominion                    3.0   8.0    9.0     NaN    4.3   8.0"
      ]
     },
     "execution_count": 3,
     "metadata": {},
     "output_type": "execute_result"
    }
   ],
   "source": [
    "ratings"
   ]
  },
  {
   "cell_type": "markdown",
   "metadata": {},
   "source": [
    "# Calculating item similarities"
   ]
  },
  {
   "cell_type": "markdown",
   "metadata": {},
   "source": [
    "## How we'll do this"
   ]
  },
  {
   "cell_type": "markdown",
   "metadata": {},
   "source": [
    "### Similarity == Angle between ratings vectors\n",
    "![](angle.png)\n",
    "### Calculting the angle (cosine similarity)\n",
    "![](similarity.png)\n",
    "### Helpful to precalculate these\n",
    "![](precalculate.png)"
   ]
  },
  {
   "cell_type": "markdown",
   "metadata": {},
   "source": [
    "## Normalize the ratings"
   ]
  },
  {
   "cell_type": "code",
   "execution_count": 4,
   "metadata": {
    "collapsed": false
   },
   "outputs": [
    {
     "data": {
      "text/plain": [
       "Bob       6.000\n",
       "Jane      7.750\n",
       "Alice     7.000\n",
       "Lesley    8.600\n",
       "Frank     6.975\n",
       "Kate      5.750\n",
       "dtype: float64"
      ]
     },
     "execution_count": 4,
     "metadata": {},
     "output_type": "execute_result"
    }
   ],
   "source": [
    "means = ratings.mean()\n",
    "means"
   ]
  },
  {
   "cell_type": "code",
   "execution_count": 5,
   "metadata": {
    "collapsed": false
   },
   "outputs": [
    {
     "data": {
      "text/html": [
       "<div>\n",
       "<table border=\"1\" class=\"dataframe\">\n",
       "  <thead>\n",
       "    <tr style=\"text-align: right;\">\n",
       "      <th></th>\n",
       "      <th>Bob</th>\n",
       "      <th>Jane</th>\n",
       "      <th>Alice</th>\n",
       "      <th>Lesley</th>\n",
       "      <th>Frank</th>\n",
       "      <th>Kate</th>\n",
       "    </tr>\n",
       "    <tr>\n",
       "      <th>Game</th>\n",
       "      <th></th>\n",
       "      <th></th>\n",
       "      <th></th>\n",
       "      <th></th>\n",
       "      <th></th>\n",
       "      <th></th>\n",
       "    </tr>\n",
       "  </thead>\n",
       "  <tbody>\n",
       "    <tr>\n",
       "      <th>Arkham Horror</th>\n",
       "      <td>-1.0</td>\n",
       "      <td>0.25</td>\n",
       "      <td>NaN</td>\n",
       "      <td>0.5</td>\n",
       "      <td>1.425</td>\n",
       "      <td>-0.75</td>\n",
       "    </tr>\n",
       "    <tr>\n",
       "      <th>Carcassonne</th>\n",
       "      <td>4.0</td>\n",
       "      <td>0.25</td>\n",
       "      <td>0.0</td>\n",
       "      <td>-1.0</td>\n",
       "      <td>NaN</td>\n",
       "      <td>0.25</td>\n",
       "    </tr>\n",
       "    <tr>\n",
       "      <th>Cards Against Humanity</th>\n",
       "      <td>NaN</td>\n",
       "      <td>-0.75</td>\n",
       "      <td>-2.0</td>\n",
       "      <td>NaN</td>\n",
       "      <td>0.025</td>\n",
       "      <td>-1.75</td>\n",
       "    </tr>\n",
       "    <tr>\n",
       "      <th>Pandemic Legacy: Season 1</th>\n",
       "      <td>NaN</td>\n",
       "      <td>NaN</td>\n",
       "      <td>NaN</td>\n",
       "      <td>0.5</td>\n",
       "      <td>1.225</td>\n",
       "      <td>NaN</td>\n",
       "    </tr>\n",
       "    <tr>\n",
       "      <th>Dominion</th>\n",
       "      <td>-3.0</td>\n",
       "      <td>0.25</td>\n",
       "      <td>2.0</td>\n",
       "      <td>NaN</td>\n",
       "      <td>-2.675</td>\n",
       "      <td>2.25</td>\n",
       "    </tr>\n",
       "  </tbody>\n",
       "</table>\n",
       "</div>"
      ],
      "text/plain": [
       "                           Bob  Jane  Alice  Lesley  Frank  Kate\n",
       "Game                                                            \n",
       "Arkham Horror             -1.0  0.25    NaN     0.5  1.425 -0.75\n",
       "Carcassonne                4.0  0.25    0.0    -1.0    NaN  0.25\n",
       "Cards Against Humanity     NaN -0.75   -2.0     NaN  0.025 -1.75\n",
       "Pandemic Legacy: Season 1  NaN   NaN    NaN     0.5  1.225   NaN\n",
       "Dominion                  -3.0  0.25    2.0     NaN -2.675  2.25"
      ]
     },
     "execution_count": 5,
     "metadata": {},
     "output_type": "execute_result"
    }
   ],
   "source": [
    "normalized = ratings - means\n",
    "normalized"
   ]
  },
  {
   "cell_type": "markdown",
   "metadata": {},
   "source": [
    "## Precompute item square root of sum of squares\n",
    "![](precalculate.png)"
   ]
  },
  {
   "cell_type": "code",
   "execution_count": 6,
   "metadata": {
    "collapsed": false
   },
   "outputs": [
    {
     "data": {
      "text/html": [
       "<div>\n",
       "<table border=\"1\" class=\"dataframe\">\n",
       "  <thead>\n",
       "    <tr style=\"text-align: right;\">\n",
       "      <th></th>\n",
       "      <th>Bob</th>\n",
       "      <th>Jane</th>\n",
       "      <th>Alice</th>\n",
       "      <th>Lesley</th>\n",
       "      <th>Frank</th>\n",
       "      <th>Kate</th>\n",
       "    </tr>\n",
       "    <tr>\n",
       "      <th>Game</th>\n",
       "      <th></th>\n",
       "      <th></th>\n",
       "      <th></th>\n",
       "      <th></th>\n",
       "      <th></th>\n",
       "      <th></th>\n",
       "    </tr>\n",
       "  </thead>\n",
       "  <tbody>\n",
       "    <tr>\n",
       "      <th>Arkham Horror</th>\n",
       "      <td>1.0</td>\n",
       "      <td>0.0625</td>\n",
       "      <td>NaN</td>\n",
       "      <td>0.25</td>\n",
       "      <td>2.030625</td>\n",
       "      <td>0.5625</td>\n",
       "    </tr>\n",
       "    <tr>\n",
       "      <th>Carcassonne</th>\n",
       "      <td>16.0</td>\n",
       "      <td>0.0625</td>\n",
       "      <td>0.0</td>\n",
       "      <td>1.00</td>\n",
       "      <td>NaN</td>\n",
       "      <td>0.0625</td>\n",
       "    </tr>\n",
       "    <tr>\n",
       "      <th>Cards Against Humanity</th>\n",
       "      <td>NaN</td>\n",
       "      <td>0.5625</td>\n",
       "      <td>4.0</td>\n",
       "      <td>NaN</td>\n",
       "      <td>0.000625</td>\n",
       "      <td>3.0625</td>\n",
       "    </tr>\n",
       "    <tr>\n",
       "      <th>Pandemic Legacy: Season 1</th>\n",
       "      <td>NaN</td>\n",
       "      <td>NaN</td>\n",
       "      <td>NaN</td>\n",
       "      <td>0.25</td>\n",
       "      <td>1.500625</td>\n",
       "      <td>NaN</td>\n",
       "    </tr>\n",
       "    <tr>\n",
       "      <th>Dominion</th>\n",
       "      <td>9.0</td>\n",
       "      <td>0.0625</td>\n",
       "      <td>4.0</td>\n",
       "      <td>NaN</td>\n",
       "      <td>7.155625</td>\n",
       "      <td>5.0625</td>\n",
       "    </tr>\n",
       "  </tbody>\n",
       "</table>\n",
       "</div>"
      ],
      "text/plain": [
       "                            Bob    Jane  Alice  Lesley     Frank    Kate\n",
       "Game                                                                    \n",
       "Arkham Horror               1.0  0.0625    NaN    0.25  2.030625  0.5625\n",
       "Carcassonne                16.0  0.0625    0.0    1.00       NaN  0.0625\n",
       "Cards Against Humanity      NaN  0.5625    4.0     NaN  0.000625  3.0625\n",
       "Pandemic Legacy: Season 1   NaN     NaN    NaN    0.25  1.500625     NaN\n",
       "Dominion                    9.0  0.0625    4.0     NaN  7.155625  5.0625"
      ]
     },
     "execution_count": 6,
     "metadata": {},
     "output_type": "execute_result"
    }
   ],
   "source": [
    "normalized.pow(2)"
   ]
  },
  {
   "cell_type": "code",
   "execution_count": 7,
   "metadata": {
    "collapsed": false
   },
   "outputs": [
    {
     "data": {
      "text/plain": [
       "Game\n",
       "Arkham Horror                 3.905625\n",
       "Carcassonne                  17.125000\n",
       "Cards Against Humanity        7.625625\n",
       "Pandemic Legacy: Season 1     1.750625\n",
       "Dominion                     25.280625\n",
       "dtype: float64"
      ]
     },
     "execution_count": 7,
     "metadata": {},
     "output_type": "execute_result"
    }
   ],
   "source": [
    "normalized.pow(2).sum(axis=1) # sum columns instead of rows"
   ]
  },
  {
   "cell_type": "code",
   "execution_count": 8,
   "metadata": {
    "collapsed": false
   },
   "outputs": [
    {
     "data": {
      "text/plain": [
       "Game\n",
       "Arkham Horror                1.976265\n",
       "Carcassonne                  4.138236\n",
       "Cards Against Humanity       2.761453\n",
       "Pandemic Legacy: Season 1    1.323112\n",
       "Dominion                     5.027984\n",
       "dtype: float64"
      ]
     },
     "execution_count": 8,
     "metadata": {},
     "output_type": "execute_result"
    }
   ],
   "source": [
    "normalized.pow(2).sum(axis=1).pow(0.5)"
   ]
  },
  {
   "cell_type": "code",
   "execution_count": 9,
   "metadata": {
    "collapsed": false
   },
   "outputs": [
    {
     "data": {
      "text/html": [
       "<div>\n",
       "<table border=\"1\" class=\"dataframe\">\n",
       "  <thead>\n",
       "    <tr style=\"text-align: right;\">\n",
       "      <th></th>\n",
       "      <th>Bob</th>\n",
       "      <th>Jane</th>\n",
       "      <th>Alice</th>\n",
       "      <th>Lesley</th>\n",
       "      <th>Frank</th>\n",
       "      <th>Kate</th>\n",
       "      <th>Sqrt Sum Squares</th>\n",
       "    </tr>\n",
       "    <tr>\n",
       "      <th>Game</th>\n",
       "      <th></th>\n",
       "      <th></th>\n",
       "      <th></th>\n",
       "      <th></th>\n",
       "      <th></th>\n",
       "      <th></th>\n",
       "      <th></th>\n",
       "    </tr>\n",
       "  </thead>\n",
       "  <tbody>\n",
       "    <tr>\n",
       "      <th>Arkham Horror</th>\n",
       "      <td>-1.0</td>\n",
       "      <td>0.25</td>\n",
       "      <td>NaN</td>\n",
       "      <td>0.5</td>\n",
       "      <td>1.425</td>\n",
       "      <td>-0.75</td>\n",
       "      <td>1.976265</td>\n",
       "    </tr>\n",
       "    <tr>\n",
       "      <th>Carcassonne</th>\n",
       "      <td>4.0</td>\n",
       "      <td>0.25</td>\n",
       "      <td>0.0</td>\n",
       "      <td>-1.0</td>\n",
       "      <td>NaN</td>\n",
       "      <td>0.25</td>\n",
       "      <td>4.138236</td>\n",
       "    </tr>\n",
       "    <tr>\n",
       "      <th>Cards Against Humanity</th>\n",
       "      <td>NaN</td>\n",
       "      <td>-0.75</td>\n",
       "      <td>-2.0</td>\n",
       "      <td>NaN</td>\n",
       "      <td>0.025</td>\n",
       "      <td>-1.75</td>\n",
       "      <td>2.761453</td>\n",
       "    </tr>\n",
       "    <tr>\n",
       "      <th>Pandemic Legacy: Season 1</th>\n",
       "      <td>NaN</td>\n",
       "      <td>NaN</td>\n",
       "      <td>NaN</td>\n",
       "      <td>0.5</td>\n",
       "      <td>1.225</td>\n",
       "      <td>NaN</td>\n",
       "      <td>1.323112</td>\n",
       "    </tr>\n",
       "    <tr>\n",
       "      <th>Dominion</th>\n",
       "      <td>-3.0</td>\n",
       "      <td>0.25</td>\n",
       "      <td>2.0</td>\n",
       "      <td>NaN</td>\n",
       "      <td>-2.675</td>\n",
       "      <td>2.25</td>\n",
       "      <td>5.027984</td>\n",
       "    </tr>\n",
       "  </tbody>\n",
       "</table>\n",
       "</div>"
      ],
      "text/plain": [
       "                           Bob  Jane  Alice  Lesley  Frank  Kate  \\\n",
       "Game                                                               \n",
       "Arkham Horror             -1.0  0.25    NaN     0.5  1.425 -0.75   \n",
       "Carcassonne                4.0  0.25    0.0    -1.0    NaN  0.25   \n",
       "Cards Against Humanity     NaN -0.75   -2.0     NaN  0.025 -1.75   \n",
       "Pandemic Legacy: Season 1  NaN   NaN    NaN     0.5  1.225   NaN   \n",
       "Dominion                  -3.0  0.25    2.0     NaN -2.675  2.25   \n",
       "\n",
       "                           Sqrt Sum Squares  \n",
       "Game                                         \n",
       "Arkham Horror                      1.976265  \n",
       "Carcassonne                        4.138236  \n",
       "Cards Against Humanity             2.761453  \n",
       "Pandemic Legacy: Season 1          1.323112  \n",
       "Dominion                           5.027984  "
      ]
     },
     "execution_count": 9,
     "metadata": {},
     "output_type": "execute_result"
    }
   ],
   "source": [
    "sqrt_sum_squares = normalized.pow(2).sum(axis=1).pow(0.5)\n",
    "rendering = normalized.copy()\n",
    "rendering['Sqrt Sum Squares'] = sqrt_sum_squares\n",
    "rendering"
   ]
  },
  {
   "cell_type": "markdown",
   "metadata": {},
   "source": [
    "## Calculate similarities"
   ]
  },
  {
   "cell_type": "code",
   "execution_count": 10,
   "metadata": {
    "collapsed": false
   },
   "outputs": [
    {
     "data": {
      "text/html": [
       "<div>\n",
       "<table border=\"1\" class=\"dataframe\">\n",
       "  <thead>\n",
       "    <tr style=\"text-align: right;\">\n",
       "      <th></th>\n",
       "      <th>Arkham Horror</th>\n",
       "      <th>Carcassonne</th>\n",
       "      <th>Cards Against Humanity</th>\n",
       "      <th>Pandemic Legacy: Season 1</th>\n",
       "      <th>Dominion</th>\n",
       "    </tr>\n",
       "  </thead>\n",
       "  <tbody>\n",
       "    <tr>\n",
       "      <th>Arkham Horror</th>\n",
       "      <td>NaN</td>\n",
       "      <td>NaN</td>\n",
       "      <td>NaN</td>\n",
       "      <td>NaN</td>\n",
       "      <td>NaN</td>\n",
       "    </tr>\n",
       "    <tr>\n",
       "      <th>Carcassonne</th>\n",
       "      <td>NaN</td>\n",
       "      <td>NaN</td>\n",
       "      <td>NaN</td>\n",
       "      <td>NaN</td>\n",
       "      <td>NaN</td>\n",
       "    </tr>\n",
       "    <tr>\n",
       "      <th>Cards Against Humanity</th>\n",
       "      <td>NaN</td>\n",
       "      <td>NaN</td>\n",
       "      <td>NaN</td>\n",
       "      <td>NaN</td>\n",
       "      <td>NaN</td>\n",
       "    </tr>\n",
       "    <tr>\n",
       "      <th>Pandemic Legacy: Season 1</th>\n",
       "      <td>NaN</td>\n",
       "      <td>NaN</td>\n",
       "      <td>NaN</td>\n",
       "      <td>NaN</td>\n",
       "      <td>NaN</td>\n",
       "    </tr>\n",
       "    <tr>\n",
       "      <th>Dominion</th>\n",
       "      <td>NaN</td>\n",
       "      <td>NaN</td>\n",
       "      <td>NaN</td>\n",
       "      <td>NaN</td>\n",
       "      <td>NaN</td>\n",
       "    </tr>\n",
       "  </tbody>\n",
       "</table>\n",
       "</div>"
      ],
      "text/plain": [
       "                          Arkham Horror Carcassonne Cards Against Humanity  \\\n",
       "Arkham Horror                       NaN         NaN                    NaN   \n",
       "Carcassonne                         NaN         NaN                    NaN   \n",
       "Cards Against Humanity              NaN         NaN                    NaN   \n",
       "Pandemic Legacy: Season 1           NaN         NaN                    NaN   \n",
       "Dominion                            NaN         NaN                    NaN   \n",
       "\n",
       "                          Pandemic Legacy: Season 1 Dominion  \n",
       "Arkham Horror                                   NaN      NaN  \n",
       "Carcassonne                                     NaN      NaN  \n",
       "Cards Against Humanity                          NaN      NaN  \n",
       "Pandemic Legacy: Season 1                       NaN      NaN  \n",
       "Dominion                                        NaN      NaN  "
      ]
     },
     "execution_count": 10,
     "metadata": {},
     "output_type": "execute_result"
    }
   ],
   "source": [
    "similarity = pd.DataFrame(index = ratings.index.values, columns = ratings.index.values) # blank matrix\n",
    "similarity"
   ]
  },
  {
   "cell_type": "markdown",
   "metadata": {},
   "source": [
    "![](similarity.png)"
   ]
  },
  {
   "cell_type": "code",
   "execution_count": 24,
   "metadata": {
    "collapsed": false
   },
   "outputs": [
    {
     "data": {
      "text/html": [
       "<div>\n",
       "<table border=\"1\" class=\"dataframe\">\n",
       "  <thead>\n",
       "    <tr style=\"text-align: right;\">\n",
       "      <th></th>\n",
       "      <th>Arkham Horror</th>\n",
       "      <th>Carcassonne</th>\n",
       "      <th>Cards Against Humanity</th>\n",
       "      <th>Pandemic Legacy: Season 1</th>\n",
       "      <th>Dominion</th>\n",
       "    </tr>\n",
       "  </thead>\n",
       "  <tbody>\n",
       "    <tr>\n",
       "      <th>Arkham Horror</th>\n",
       "      <td>1</td>\n",
       "      <td>-0.565524</td>\n",
       "      <td>0.212671</td>\n",
       "      <td>0.763198</td>\n",
       "      <td>-0.245242</td>\n",
       "    </tr>\n",
       "    <tr>\n",
       "      <th>Carcassonne</th>\n",
       "      <td>-0.565524</td>\n",
       "      <td>1</td>\n",
       "      <td>-0.0546924</td>\n",
       "      <td>-0.0913184</td>\n",
       "      <td>-0.546691</td>\n",
       "    </tr>\n",
       "    <tr>\n",
       "      <th>Cards Against Humanity</th>\n",
       "      <td>0.212671</td>\n",
       "      <td>-0.0546924</td>\n",
       "      <td>1</td>\n",
       "      <td>0.00838189</td>\n",
       "      <td>-0.59</td>\n",
       "    </tr>\n",
       "    <tr>\n",
       "      <th>Pandemic Legacy: Season 1</th>\n",
       "      <td>0.763198</td>\n",
       "      <td>-0.0913184</td>\n",
       "      <td>0.00838189</td>\n",
       "      <td>1</td>\n",
       "      <td>-0.492572</td>\n",
       "    </tr>\n",
       "    <tr>\n",
       "      <th>Dominion</th>\n",
       "      <td>-0.245242</td>\n",
       "      <td>-0.546691</td>\n",
       "      <td>-0.59</td>\n",
       "      <td>-0.492572</td>\n",
       "      <td>1</td>\n",
       "    </tr>\n",
       "  </tbody>\n",
       "</table>\n",
       "</div>"
      ],
      "text/plain": [
       "                          Arkham Horror Carcassonne Cards Against Humanity  \\\n",
       "Arkham Horror                         1   -0.565524               0.212671   \n",
       "Carcassonne                   -0.565524           1             -0.0546924   \n",
       "Cards Against Humanity         0.212671  -0.0546924                      1   \n",
       "Pandemic Legacy: Season 1      0.763198  -0.0913184             0.00838189   \n",
       "Dominion                      -0.245242   -0.546691                  -0.59   \n",
       "\n",
       "                          Pandemic Legacy: Season 1  Dominion  \n",
       "Arkham Horror                              0.763198 -0.245242  \n",
       "Carcassonne                              -0.0913184 -0.546691  \n",
       "Cards Against Humanity                   0.00838189     -0.59  \n",
       "Pandemic Legacy: Season 1                         1 -0.492572  \n",
       "Dominion                                  -0.492572         1  "
      ]
     },
     "execution_count": 24,
     "metadata": {},
     "output_type": "execute_result"
    }
   ],
   "source": [
    "for i in similarity.index.values:\n",
    "    for j in similarity.index.values:\n",
    "        numerator = (normalized.loc[i] * normalized.loc[j]).sum()\n",
    "        denominator = sqrt_sum_squares.loc[i] * sqrt_sum_squares.loc[j]\n",
    "        similarity.loc[i,j] = numerator / denominator\n",
    "        \n",
    "similarity"
   ]
  },
  {
   "cell_type": "markdown",
   "metadata": {},
   "source": [
    "# Part 2 - Apply the model\n"
   ]
  },
  {
   "cell_type": "markdown",
   "metadata": {},
   "source": [
    "# Recommend similar items"
   ]
  },
  {
   "cell_type": "code",
   "execution_count": 12,
   "metadata": {
    "collapsed": false
   },
   "outputs": [
    {
     "data": {
      "text/html": [
       "<div>\n",
       "<table border=\"1\" class=\"dataframe\">\n",
       "  <thead>\n",
       "    <tr style=\"text-align: right;\">\n",
       "      <th></th>\n",
       "      <th>Arkham Horror</th>\n",
       "      <th>Carcassonne</th>\n",
       "      <th>Cards Against Humanity</th>\n",
       "      <th>Pandemic Legacy: Season 1</th>\n",
       "      <th>Dominion</th>\n",
       "    </tr>\n",
       "  </thead>\n",
       "  <tbody>\n",
       "    <tr>\n",
       "      <th>Arkham Horror</th>\n",
       "      <td>1</td>\n",
       "      <td>-0.565524</td>\n",
       "      <td>0.212671</td>\n",
       "      <td>0.763198</td>\n",
       "      <td>-0.245242</td>\n",
       "    </tr>\n",
       "    <tr>\n",
       "      <th>Pandemic Legacy: Season 1</th>\n",
       "      <td>0.763198</td>\n",
       "      <td>-0.0913184</td>\n",
       "      <td>0.00838189</td>\n",
       "      <td>1</td>\n",
       "      <td>-0.492572</td>\n",
       "    </tr>\n",
       "    <tr>\n",
       "      <th>Cards Against Humanity</th>\n",
       "      <td>0.212671</td>\n",
       "      <td>-0.0546924</td>\n",
       "      <td>1</td>\n",
       "      <td>0.00838189</td>\n",
       "      <td>-0.59</td>\n",
       "    </tr>\n",
       "    <tr>\n",
       "      <th>Dominion</th>\n",
       "      <td>-0.245242</td>\n",
       "      <td>-0.546691</td>\n",
       "      <td>-0.59</td>\n",
       "      <td>-0.492572</td>\n",
       "      <td>1</td>\n",
       "    </tr>\n",
       "    <tr>\n",
       "      <th>Carcassonne</th>\n",
       "      <td>-0.565524</td>\n",
       "      <td>1</td>\n",
       "      <td>-0.0546924</td>\n",
       "      <td>-0.0913184</td>\n",
       "      <td>-0.546691</td>\n",
       "    </tr>\n",
       "  </tbody>\n",
       "</table>\n",
       "</div>"
      ],
      "text/plain": [
       "                          Arkham Horror Carcassonne Cards Against Humanity  \\\n",
       "Arkham Horror                         1   -0.565524               0.212671   \n",
       "Pandemic Legacy: Season 1      0.763198  -0.0913184             0.00838189   \n",
       "Cards Against Humanity         0.212671  -0.0546924                      1   \n",
       "Dominion                      -0.245242   -0.546691                  -0.59   \n",
       "Carcassonne                   -0.565524           1             -0.0546924   \n",
       "\n",
       "                          Pandemic Legacy: Season 1  Dominion  \n",
       "Arkham Horror                              0.763198 -0.245242  \n",
       "Pandemic Legacy: Season 1                         1 -0.492572  \n",
       "Cards Against Humanity                   0.00838189     -0.59  \n",
       "Dominion                                  -0.492572         1  \n",
       "Carcassonne                              -0.0913184 -0.546691  "
      ]
     },
     "execution_count": 12,
     "metadata": {},
     "output_type": "execute_result"
    }
   ],
   "source": [
    "similarity.sort_values('Arkham Horror', ascending=False)"
   ]
  },
  {
   "cell_type": "code",
   "execution_count": 13,
   "metadata": {
    "collapsed": false
   },
   "outputs": [
    {
     "data": {
      "text/plain": [
       "('Pandemic Legacy: Season 1', 0.76319778593577769)"
      ]
     },
     "execution_count": 13,
     "metadata": {},
     "output_type": "execute_result"
    }
   ],
   "source": [
    "def most_similar_to(item):\n",
    "    ranked = similarity[item].sort_values(ascending=False)\n",
    "    return (ranked.index[1], ranked[1])\n",
    "    \n",
    "most_similar_to('Arkham Horror')   "
   ]
  },
  {
   "cell_type": "markdown",
   "metadata": {},
   "source": [
    "# Predict user ratings\n",
    "![](predict.png)\n",
    "i.e. predict the rating for item j based on the ratings given to other items (i) and their ratings."
   ]
  },
  {
   "cell_type": "markdown",
   "metadata": {},
   "source": [
    "We'll first calculate, by hand, Bob's rating for Cards Against Humanity."
   ]
  },
  {
   "cell_type": "markdown",
   "metadata": {},
   "source": [
    "### Calculate the numerator\n",
    "![](numerator.png)"
   ]
  },
  {
   "cell_type": "code",
   "execution_count": 14,
   "metadata": {
    "collapsed": false
   },
   "outputs": [
    {
     "data": {
      "text/html": [
       "<div>\n",
       "<table border=\"1\" class=\"dataframe\">\n",
       "  <thead>\n",
       "    <tr style=\"text-align: right;\">\n",
       "      <th></th>\n",
       "      <th>Bob</th>\n",
       "      <th>Jane</th>\n",
       "      <th>Alice</th>\n",
       "      <th>Lesley</th>\n",
       "      <th>Frank</th>\n",
       "      <th>Kate</th>\n",
       "    </tr>\n",
       "    <tr>\n",
       "      <th>Game</th>\n",
       "      <th></th>\n",
       "      <th></th>\n",
       "      <th></th>\n",
       "      <th></th>\n",
       "      <th></th>\n",
       "      <th></th>\n",
       "    </tr>\n",
       "  </thead>\n",
       "  <tbody>\n",
       "    <tr>\n",
       "      <th>Arkham Horror</th>\n",
       "      <td>-1.0</td>\n",
       "      <td>0.25</td>\n",
       "      <td>NaN</td>\n",
       "      <td>0.5</td>\n",
       "      <td>1.425</td>\n",
       "      <td>-0.75</td>\n",
       "    </tr>\n",
       "    <tr>\n",
       "      <th>Carcassonne</th>\n",
       "      <td>4.0</td>\n",
       "      <td>0.25</td>\n",
       "      <td>0.0</td>\n",
       "      <td>-1.0</td>\n",
       "      <td>NaN</td>\n",
       "      <td>0.25</td>\n",
       "    </tr>\n",
       "    <tr>\n",
       "      <th>Cards Against Humanity</th>\n",
       "      <td>NaN</td>\n",
       "      <td>-0.75</td>\n",
       "      <td>-2.0</td>\n",
       "      <td>NaN</td>\n",
       "      <td>0.025</td>\n",
       "      <td>-1.75</td>\n",
       "    </tr>\n",
       "    <tr>\n",
       "      <th>Pandemic Legacy: Season 1</th>\n",
       "      <td>NaN</td>\n",
       "      <td>NaN</td>\n",
       "      <td>NaN</td>\n",
       "      <td>0.5</td>\n",
       "      <td>1.225</td>\n",
       "      <td>NaN</td>\n",
       "    </tr>\n",
       "    <tr>\n",
       "      <th>Dominion</th>\n",
       "      <td>-3.0</td>\n",
       "      <td>0.25</td>\n",
       "      <td>2.0</td>\n",
       "      <td>NaN</td>\n",
       "      <td>-2.675</td>\n",
       "      <td>2.25</td>\n",
       "    </tr>\n",
       "  </tbody>\n",
       "</table>\n",
       "</div>"
      ],
      "text/plain": [
       "                           Bob  Jane  Alice  Lesley  Frank  Kate\n",
       "Game                                                            \n",
       "Arkham Horror             -1.0  0.25    NaN     0.5  1.425 -0.75\n",
       "Carcassonne                4.0  0.25    0.0    -1.0    NaN  0.25\n",
       "Cards Against Humanity     NaN -0.75   -2.0     NaN  0.025 -1.75\n",
       "Pandemic Legacy: Season 1  NaN   NaN    NaN     0.5  1.225   NaN\n",
       "Dominion                  -3.0  0.25    2.0     NaN -2.675  2.25"
      ]
     },
     "execution_count": 14,
     "metadata": {},
     "output_type": "execute_result"
    }
   ],
   "source": [
    "normalized"
   ]
  },
  {
   "cell_type": "code",
   "execution_count": 15,
   "metadata": {
    "collapsed": false
   },
   "outputs": [
    {
     "data": {
      "text/plain": [
       "Game\n",
       "Arkham Horror               -0.212671\n",
       "Carcassonne                  -0.21877\n",
       "Cards Against Humanity            NaN\n",
       "Pandemic Legacy: Season 1         NaN\n",
       "Dominion                         1.77\n",
       "dtype: object"
      ]
     },
     "execution_count": 15,
     "metadata": {},
     "output_type": "execute_result"
    }
   ],
   "source": [
    "normalized['Bob'] * similarity.loc['Cards Against Humanity']"
   ]
  },
  {
   "cell_type": "markdown",
   "metadata": {},
   "source": [
    "### Calculate the denominator\n",
    "![](denominator.png)"
   ]
  },
  {
   "cell_type": "code",
   "execution_count": 16,
   "metadata": {
    "collapsed": false
   },
   "outputs": [
    {
     "data": {
      "text/plain": [
       "Game\n",
       "Arkham Horror                1.0\n",
       "Carcassonne                  4.0\n",
       "Cards Against Humanity       NaN\n",
       "Pandemic Legacy: Season 1    NaN\n",
       "Dominion                     3.0\n",
       "Name: Bob, dtype: float64"
      ]
     },
     "execution_count": 16,
     "metadata": {},
     "output_type": "execute_result"
    }
   ],
   "source": [
    "normalized['Bob'].abs()"
   ]
  },
  {
   "cell_type": "markdown",
   "metadata": {},
   "source": [
    "### Calculate the predicted normalized rating"
   ]
  },
  {
   "cell_type": "code",
   "execution_count": 17,
   "metadata": {
    "collapsed": false
   },
   "outputs": [
    {
     "data": {
      "text/plain": [
       "0.16731972021500008"
      ]
     },
     "execution_count": 17,
     "metadata": {},
     "output_type": "execute_result"
    }
   ],
   "source": [
    "numerator =(normalized['Bob'] * similarity.loc['Cards Against Humanity']).sum()\n",
    "denominator = normalized['Bob'].abs().sum()\n",
    "\n",
    "numerator / denominator"
   ]
  },
  {
   "cell_type": "markdown",
   "metadata": {},
   "source": [
    "### Calculated the predicted rating"
   ]
  },
  {
   "cell_type": "code",
   "execution_count": 18,
   "metadata": {
    "collapsed": false
   },
   "outputs": [
    {
     "data": {
      "text/plain": [
       "6.1673197202149996"
      ]
     },
     "execution_count": 18,
     "metadata": {},
     "output_type": "execute_result"
    }
   ],
   "source": [
    "(numerator / denominator) + means['Bob']"
   ]
  },
  {
   "cell_type": "markdown",
   "metadata": {},
   "source": [
    "### Predict for any user + item"
   ]
  },
  {
   "cell_type": "code",
   "execution_count": 19,
   "metadata": {
    "collapsed": false
   },
   "outputs": [
    {
     "data": {
      "text/plain": [
       "5.9303574377218036"
      ]
     },
     "execution_count": 19,
     "metadata": {},
     "output_type": "execute_result"
    }
   ],
   "source": [
    "def predict_rating_for(user, item):\n",
    "    return (ratings[user] * similarity.loc[item]).sum() / ratings[user].abs().sum() + means[user]\n",
    "    \n",
    "predict_rating_for('Bob', 'Cards Against Humanity')"
   ]
  },
  {
   "cell_type": "markdown",
   "metadata": {},
   "source": [
    "# Congratulations! That's all the theory you need to get started!"
   ]
  }
 ],
 "metadata": {
  "anaconda-cloud": {},
  "kernelspec": {
   "display_name": "Python [Root]",
   "language": "python",
   "name": "Python [Root]"
  },
  "language_info": {
   "codemirror_mode": {
    "name": "ipython",
    "version": 2
   },
   "file_extension": ".py",
   "mimetype": "text/x-python",
   "name": "python",
   "nbconvert_exporter": "python",
   "pygments_lexer": "ipython2",
   "version": "2.7.12"
  }
 },
 "nbformat": 4,
 "nbformat_minor": 0
}
