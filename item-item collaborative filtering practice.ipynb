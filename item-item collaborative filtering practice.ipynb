{
 "cells": [
  {
   "cell_type": "markdown",
   "metadata": {},
   "source": [
    "# Setup (done for you)"
   ]
  },
  {
   "cell_type": "code",
   "execution_count": 1,
   "metadata": {
    "collapsed": true
   },
   "outputs": [],
   "source": [
    "import pandas as pd\n",
    "\n",
    "ratings = pd.read_csv('ratings.csv', index_col=0)\n",
    "similarity = pd.DataFrame(index = ratings.index.values, columns = ratings.index.values)"
   ]
  },
  {
   "cell_type": "code",
   "execution_count": 2,
   "metadata": {
    "collapsed": false
   },
   "outputs": [
    {
     "data": {
      "text/html": [
       "<div>\n",
       "<table border=\"1\" class=\"dataframe\">\n",
       "  <thead>\n",
       "    <tr style=\"text-align: right;\">\n",
       "      <th></th>\n",
       "      <th>Bob</th>\n",
       "      <th>Jane</th>\n",
       "      <th>Alice</th>\n",
       "      <th>Lesley</th>\n",
       "      <th>Frank</th>\n",
       "      <th>Kate</th>\n",
       "    </tr>\n",
       "    <tr>\n",
       "      <th>Game</th>\n",
       "      <th></th>\n",
       "      <th></th>\n",
       "      <th></th>\n",
       "      <th></th>\n",
       "      <th></th>\n",
       "      <th></th>\n",
       "    </tr>\n",
       "  </thead>\n",
       "  <tbody>\n",
       "    <tr>\n",
       "      <th>Arkham Horror</th>\n",
       "      <td>5</td>\n",
       "      <td>8</td>\n",
       "      <td></td>\n",
       "      <td>9.1</td>\n",
       "      <td>8.4</td>\n",
       "      <td>5</td>\n",
       "    </tr>\n",
       "    <tr>\n",
       "      <th>Carcassonne</th>\n",
       "      <td>10</td>\n",
       "      <td>8</td>\n",
       "      <td>7</td>\n",
       "      <td>7.6</td>\n",
       "      <td></td>\n",
       "      <td>6</td>\n",
       "    </tr>\n",
       "    <tr>\n",
       "      <th>Cards Against Humanity</th>\n",
       "      <td></td>\n",
       "      <td>7</td>\n",
       "      <td>5</td>\n",
       "      <td></td>\n",
       "      <td>7</td>\n",
       "      <td>4</td>\n",
       "    </tr>\n",
       "    <tr>\n",
       "      <th>Pandemic Legacy: Season 1</th>\n",
       "      <td></td>\n",
       "      <td></td>\n",
       "      <td></td>\n",
       "      <td>9.1</td>\n",
       "      <td>8.2</td>\n",
       "      <td></td>\n",
       "    </tr>\n",
       "    <tr>\n",
       "      <th>Dominion</th>\n",
       "      <td>3</td>\n",
       "      <td>8</td>\n",
       "      <td>9</td>\n",
       "      <td></td>\n",
       "      <td>4.3</td>\n",
       "      <td>8</td>\n",
       "    </tr>\n",
       "  </tbody>\n",
       "</table>\n",
       "</div>"
      ],
      "text/plain": [
       "                          Bob Jane Alice Lesley Frank Kate\n",
       "Game                                                      \n",
       "Arkham Horror               5    8          9.1   8.4    5\n",
       "Carcassonne                10    8     7    7.6          6\n",
       "Cards Against Humanity           7     5            7    4\n",
       "Pandemic Legacy: Season 1                   9.1   8.2     \n",
       "Dominion                    3    8     9          4.3    8"
      ]
     },
     "execution_count": 2,
     "metadata": {},
     "output_type": "execute_result"
    }
   ],
   "source": [
    "ratings.fillna('')"
   ]
  },
  {
   "cell_type": "code",
   "execution_count": 3,
   "metadata": {
    "collapsed": false
   },
   "outputs": [
    {
     "data": {
      "text/html": [
       "<div>\n",
       "<table border=\"1\" class=\"dataframe\">\n",
       "  <thead>\n",
       "    <tr style=\"text-align: right;\">\n",
       "      <th></th>\n",
       "      <th>Arkham Horror</th>\n",
       "      <th>Carcassonne</th>\n",
       "      <th>Cards Against Humanity</th>\n",
       "      <th>Pandemic Legacy: Season 1</th>\n",
       "      <th>Dominion</th>\n",
       "    </tr>\n",
       "  </thead>\n",
       "  <tbody>\n",
       "    <tr>\n",
       "      <th>Arkham Horror</th>\n",
       "      <td></td>\n",
       "      <td></td>\n",
       "      <td></td>\n",
       "      <td></td>\n",
       "      <td></td>\n",
       "    </tr>\n",
       "    <tr>\n",
       "      <th>Carcassonne</th>\n",
       "      <td></td>\n",
       "      <td></td>\n",
       "      <td></td>\n",
       "      <td></td>\n",
       "      <td></td>\n",
       "    </tr>\n",
       "    <tr>\n",
       "      <th>Cards Against Humanity</th>\n",
       "      <td></td>\n",
       "      <td></td>\n",
       "      <td></td>\n",
       "      <td></td>\n",
       "      <td></td>\n",
       "    </tr>\n",
       "    <tr>\n",
       "      <th>Pandemic Legacy: Season 1</th>\n",
       "      <td></td>\n",
       "      <td></td>\n",
       "      <td></td>\n",
       "      <td></td>\n",
       "      <td></td>\n",
       "    </tr>\n",
       "    <tr>\n",
       "      <th>Dominion</th>\n",
       "      <td></td>\n",
       "      <td></td>\n",
       "      <td></td>\n",
       "      <td></td>\n",
       "      <td></td>\n",
       "    </tr>\n",
       "  </tbody>\n",
       "</table>\n",
       "</div>"
      ],
      "text/plain": [
       "                          Arkham Horror Carcassonne Cards Against Humanity  \\\n",
       "Arkham Horror                                                                \n",
       "Carcassonne                                                                  \n",
       "Cards Against Humanity                                                       \n",
       "Pandemic Legacy: Season 1                                                    \n",
       "Dominion                                                                     \n",
       "\n",
       "                          Pandemic Legacy: Season 1 Dominion  \n",
       "Arkham Horror                                                 \n",
       "Carcassonne                                                   \n",
       "Cards Against Humanity                                        \n",
       "Pandemic Legacy: Season 1                                     \n",
       "Dominion                                                      "
      ]
     },
     "execution_count": 3,
     "metadata": {},
     "output_type": "execute_result"
    }
   ],
   "source": [
    "similarity.fillna('')"
   ]
  },
  {
   "cell_type": "markdown",
   "metadata": {},
   "source": [
    "# It's your turn!"
   ]
  },
  {
   "cell_type": "markdown",
   "metadata": {},
   "source": [
    "## Normalize the ratings"
   ]
  },
  {
   "cell_type": "markdown",
   "metadata": {},
   "source": [
    "*Calculate the mean rating for each item*\n",
    "\n",
    "Note:\n",
    "* Assign the value to a variable called `mean`.\n",
    "* This is most concisely calculated using the [DataFrame.mean()](http://pandas.pydata.org/pandas-docs/stable/generated/pandas.DataFrame.mean.html) function.\n",
    "* `DataFrame.mean()` will by default operate on columns, use `mean(axis=1)` to specify you want to operate on rows instead."
   ]
  },
  {
   "cell_type": "code",
   "execution_count": 4,
   "metadata": {
    "collapsed": false
   },
   "outputs": [
    {
     "data": {
      "text/plain": [
       "6"
      ]
     },
     "execution_count": 4,
     "metadata": {},
     "output_type": "execute_result"
    }
   ],
   "source": []
  },
  {
   "cell_type": "markdown",
   "metadata": {},
   "source": [
    "_Display the calculated mean_\n",
    "\n",
    "Note:\n",
    "\n",
    "* The final expression in a notebook is output, so just put `mean` in the input below."
   ]
  },
  {
   "cell_type": "markdown",
   "metadata": {},
   "source": []
  },
  {
   "cell_type": "markdown",
   "metadata": {},
   "source": [
    "_Calculate the normalized ratings by subtracting the item mean ratings_\n",
    "\n",
    "Note:\n",
    "\n",
    "* Remember than Pandas provides the _vetorized_ form for all these equations. So `A - B` expresses subtracting matrix B from matrix A."
   ]
  },
  {
   "cell_type": "code",
   "execution_count": null,
   "metadata": {
    "collapsed": true
   },
   "outputs": [],
   "source": []
  },
  {
   "cell_type": "markdown",
   "metadata": {},
   "source": [
    "_Sanity check_\n",
    "\n",
    "Your normalized numbers should look like this:\n",
    "\n",
    "```\n",
    "                           Bob  Jane  Alice  Lesley  Frank  Kate\n",
    "Game                                                            \n",
    "Arkham Horror             -1.0  0.25    NaN     0.5  1.425 -0.75\n",
    "Carcassonne                4.0  0.25    0.0    -1.0    NaN  0.25\n",
    "Cards Against Humanity     NaN -0.75   -2.0     NaN  0.025 -1.75\n",
    "Pandemic Legacy: Season 1  NaN   NaN    NaN     0.5  1.225   NaN\n",
    "Dominion                  -3.0  0.25    2.0     NaN -2.675  2.25\n",
    "```"
   ]
  },
  {
   "cell_type": "markdown",
   "metadata": {},
   "source": [
    "## Calculate square root of sum of squares"
   ]
  },
  {
   "cell_type": "markdown",
   "metadata": {},
   "source": [
    "For each _item_ calculate the square root of the sum of the squares of ratings.\n",
    "\n",
    "Note:\n",
    "\n",
    "* Assign this to a variable called `sqrt_sum_squares`.\n",
    "* You'll need to use these component parts: `DataFrame.pow(2)`, `DataFrame.sum(axis=1)`, and `DataFrame.pow(0.5)`.\n",
    "* Make `sqrt_sum_squares` the final expression below so that you can inspect the result."
   ]
  },
  {
   "cell_type": "code",
   "execution_count": null,
   "metadata": {
    "collapsed": true
   },
   "outputs": [],
   "source": []
  },
  {
   "cell_type": "markdown",
   "metadata": {},
   "source": [
    "_Sanity check_\n",
    "\n",
    "Your `sqrt_sum_squares` should look like this:\n",
    "\n",
    "```\n",
    "Game\n",
    "Arkham Horror                16.351453\n",
    "Carcassonne                  17.514565\n",
    "Cards Against Humanity       11.789826\n",
    "Pandemic Legacy: Season 1    12.249490\n",
    "Dominion                     15.378231\n",
    "dtype: float64\n",
    "```"
   ]
  },
  {
   "cell_type": "markdown",
   "metadata": {},
   "source": [
    "## Calculate the simularity matrix"
   ]
  },
  {
   "cell_type": "markdown",
   "metadata": {},
   "source": [
    "_Fill in the expression below to set each element of the similarity matrix_\n",
    "\n",
    "Note:\n",
    "    \n",
    "* The calculation is (ratingA * ratingB) / (sqrt_sum_squaresA * sqrt_sum_squaresB).\n",
    "* Remember to use `loc[label]` to access elements by their labels (i.e. the item names). E.g. `ratings.loc[i]`."
   ]
  },
  {
   "cell_type": "code",
   "execution_count": null,
   "metadata": {
    "collapsed": true
   },
   "outputs": [],
   "source": [
    "for i in similarity.index.values:\n",
    "    for j in similarity.index.values:\n",
    "        # similarity.loc[i,j] = \n",
    "        \n",
    "similarity"
   ]
  },
  {
   "cell_type": "markdown",
   "metadata": {},
   "source": [
    "_Sanity check_\n",
    "\n",
    "Your `similarity` matrix should look like this:\n",
    "\n",
    "```\n",
    "                          Arkham Horror Carcassonne Cards Against Humanity  \\\n",
    "Arkham Horror                         1    0.744303                0.69924   \n",
    "Carcassonne                    0.744303           1               0.556918   \n",
    "Cards Against Humanity          0.69924    0.556918                      1   \n",
    "Pandemic Legacy: Season 1      0.757326    0.322357               0.397454   \n",
    "Dominion                       0.616886    0.761111               0.899581   \n",
    "\n",
    "                          Pandemic Legacy: Season 1  Dominion  \n",
    "Arkham Horror                              0.757326  0.616886  \n",
    "Carcassonne                                0.322357  0.761111  \n",
    "Cards Against Humanity                     0.397454  0.899581  \n",
    "Pandemic Legacy: Season 1                         1  0.187179  \n",
    "Dominion                                   0.187179         1 \n",
    "```"
   ]
  },
  {
   "cell_type": "markdown",
   "metadata": {},
   "source": [
    "## Find similiar items"
   ]
  },
  {
   "cell_type": "markdown",
   "metadata": {},
   "source": [
    "_Produce a list of items similar to `'Carcassonne'` sorted in order of similarity_\n",
    "\n",
    "Note:\n",
    "\n",
    "* The method `sort_values()` will do this work for you. The `ascending=False` parameter will reverse the ordering."
   ]
  },
  {
   "cell_type": "code",
   "execution_count": null,
   "metadata": {
    "collapsed": true
   },
   "outputs": [],
   "source": []
  },
  {
   "cell_type": "markdown",
   "metadata": {},
   "source": [
    "_Sanity check_\n",
    "\n",
    "The output should look like this:\n",
    "\n",
    "```\n",
    "Carcassonne                         1\n",
    "Dominion                     0.761111\n",
    "Arkham Horror                0.744303\n",
    "Cards Against Humanity       0.556918\n",
    "Pandemic Legacy: Season 1    0.322357\n",
    "Name: Carcassonne, dtype: object\n",
    "```"
   ]
  },
  {
   "cell_type": "markdown",
   "metadata": {},
   "source": [
    "## Bonus question"
   ]
  },
  {
   "cell_type": "markdown",
   "metadata": {},
   "source": [
    "Q: Why is Carcassonne itself top of the list? How could you filter it out?"
   ]
  },
  {
   "cell_type": "code",
   "execution_count": null,
   "metadata": {
    "collapsed": true
   },
   "outputs": [],
   "source": []
  },
  {
   "cell_type": "markdown",
   "metadata": {},
   "source": [
    "## Bonus exercise"
   ]
  },
  {
   "cell_type": "markdown",
   "metadata": {},
   "source": [
    "Jane hasn't rated `'Pandemic Legacy: Season 1'`. Calculate her rating. How does her predicted rating compare to the average rating for `'Pandemic Legacy: Season 1'`? "
   ]
  },
  {
   "cell_type": "code",
   "execution_count": null,
   "metadata": {
    "collapsed": true
   },
   "outputs": [],
   "source": []
  }
 ],
 "metadata": {
  "anaconda-cloud": {},
  "kernelspec": {
   "display_name": "Python [Root]",
   "language": "python",
   "name": "Python [Root]"
  },
  "language_info": {
   "codemirror_mode": {
    "name": "ipython",
    "version": 2
   },
   "file_extension": ".py",
   "mimetype": "text/x-python",
   "name": "python",
   "nbconvert_exporter": "python",
   "pygments_lexer": "ipython2",
   "version": "2.7.12"
  }
 },
 "nbformat": 4,
 "nbformat_minor": 0
}
